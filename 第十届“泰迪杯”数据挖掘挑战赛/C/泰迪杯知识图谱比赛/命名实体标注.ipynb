{
 "cells": [
  {
   "cell_type": "code",
   "execution_count": 1,
   "id": "3f3e88c9",
   "metadata": {
    "ExecuteTime": {
     "end_time": "2022-04-21T06:26:56.238181Z",
     "start_time": "2022-04-21T06:26:54.511681Z"
    }
   },
   "outputs": [],
   "source": [
    "import pandas as pd \n",
    "import numpy as np"
   ]
  },
  {
   "cell_type": "markdown",
   "id": "7b895dfe",
   "metadata": {},
   "source": [
    "## 读取数据"
   ]
  },
  {
   "cell_type": "code",
   "execution_count": 2,
   "id": "5241db4f",
   "metadata": {
    "ExecuteTime": {
     "end_time": "2022-04-21T06:27:05.131223Z",
     "start_time": "2022-04-21T06:26:56.238181Z"
    }
   },
   "outputs": [],
   "source": [
    "df1 = pd.concat([pd.read_excel('data/2018-2019茂名（含自媒体）.xlsx', sheet_name='游记攻略'), pd.read_excel('data/2020-2021茂名（含自媒体）.xlsx', sheet_name='游记攻略')], ignore_index=True)\n",
    "df2 = pd.concat([pd.read_excel('data/2018-2019茂名（含自媒体）.xlsx', sheet_name='酒店评论'), pd.read_excel('data/2020-2021茂名（含自媒体）.xlsx', sheet_name='酒店评论')], ignore_index=True)\n",
    "df3 = pd.concat([pd.read_excel('data/2018-2019茂名（含自媒体）.xlsx', sheet_name='景区评论'), pd.read_excel('data/2020-2021茂名（含自媒体）.xlsx', sheet_name='景区评论')], ignore_index=True)\n",
    "df4 = pd.concat([pd.read_excel('data/2018-2019茂名（含自媒体）.xlsx', sheet_name='餐饮评论'), pd.read_excel('data/2020-2021茂名（含自媒体）.xlsx', sheet_name='餐饮评论')], ignore_index=True)\n",
    "df_entity = pd.read_csv('data/所有实体.csv')"
   ]
  },
  {
   "cell_type": "code",
   "execution_count": 3,
   "id": "e5f63830",
   "metadata": {
    "ExecuteTime": {
     "end_time": "2022-04-21T06:27:05.179660Z",
     "start_time": "2022-04-21T06:27:05.131223Z"
    }
   },
   "outputs": [
    {
     "data": {
      "text/plain": [
       "['脆皮热狗卷',\n",
       " '兰州拉面',\n",
       " '徐闻港口码头酒店',\n",
       " '海滨公园',\n",
       " '凉拌鹅颈肉',\n",
       " '立园',\n",
       " '泡芙',\n",
       " '黄油',\n",
       " '凤凰酒店',\n",
       " '雷祖祠',\n",
       " '油条碎',\n",
       " '天马山生态旅游景区',\n",
       " '好心公园',\n",
       " '麻斜岛',\n",
       " '贵妃广场',\n",
       " '十贤祠',\n",
       " '茂名好来登商务酒店',\n",
       " '茂名私宅印象民宿',\n",
       " '灯楼角',\n",
       " '水东湾',\n",
       " '茂名君悦商务酒店人民大道店',\n",
       " '热狗',\n",
       " '水东滨红树林景区',\n",
       " '瞭望厅',\n",
       " '关东煮',\n",
       " '卤水鹅三宝',\n",
       " '沙街云吞',\n",
       " '桂花肠',\n",
       " '文武庙',\n",
       " '茂名站南广场',\n",
       " '三元塔',\n",
       " '生煎鹅腩肉',\n",
       " '榴莲千层',\n",
       " '博贺湾',\n",
       " '浪漫海岸国际旅游度假区',\n",
       " '望海楼',\n",
       " '奶油',\n",
       " '化州白云公寓',\n",
       " '新湖公园',\n",
       " '野菠萝公园',\n",
       " '生蚝',\n",
       " '榴莲蛋糕',\n",
       " '无花果萨拉米披萨',\n",
       " '火腿',\n",
       " '烧鸭饭',\n",
       " '城市',\n",
       " '炖鹅骨头汤',\n",
       " '化州豪杰商务酒店',\n",
       " '信宜金辉煌宾馆',\n",
       " '温德姆酒店',\n",
       " '自力村',\n",
       " '红树林栈道',\n",
       " '面包',\n",
       " '蔬菜',\n",
       " '露天矿公园',\n",
       " '藏龙湾',\n",
       " '早茶',\n",
       " '百灵庙',\n",
       " '文化广场',\n",
       " '茂名鑫都宾馆',\n",
       " '游乐场',\n",
       " '尚客优连锁酒店(化州站前路店)',\n",
       " '面包体',\n",
       " '化州怡沛尚公寓',\n",
       " '叉烧饭',\n",
       " '旺同竹海',\n",
       " '贡园',\n",
       " '中国第一滩一家人公寓',\n",
       " '水东港',\n",
       " '日式蟹肉卷',\n",
       " '潘茂名纪念馆',\n",
       " '浪漫海岸旅游度假区',\n",
       " '大角湾',\n",
       " '好心湖',\n",
       " '水东湾海洋公园',\n",
       " '维也纳3好酒店(茂名电城店)',\n",
       " '红树林湿地公园',\n",
       " '索性酒店(化州火车站店)',\n",
       " '阳江海上丝绸之路博物馆',\n",
       " '寿司',\n",
       " '天马山',\n",
       " '牛肚',\n",
       " '情人桥',\n",
       " '牛肉',\n",
       " '赤坎老街',\n",
       " '牛排',\n",
       " '肉松',\n",
       " '油地公园',\n",
       " '蛇口码头',\n",
       " '茂名茂南高山九树公寓',\n",
       " '玻璃桥',\n",
       " '西湖公园',\n",
       " '摩天轮',\n",
       " '滘尾角灯塔',\n",
       " '观鹭阁',\n",
       " '温德姆至尊酒店',\n",
       " '雷州西湖',\n",
       " '米饭',\n",
       " '和牛盖饭',\n",
       " '酱汁',\n",
       " '自助菜',\n",
       " '放鸡岛海上游乐',\n",
       " '蜂蜜芥末',\n",
       " '荷花温泉',\n",
       " '茂名红天旅馆',\n",
       " '海鲜',\n",
       " '第一滩',\n",
       " '架海灯塔',\n",
       " '沙滩',\n",
       " '杏岛',\n",
       " '佛罗伦萨式5J烩牛肚',\n",
       " '无花果',\n",
       " '高州鉴江商务酒店',\n",
       " '茂名嘉和招待所',\n",
       " '东南码头',\n",
       " '意粉拌酱汁',\n",
       " '刺身',\n",
       " '饮料',\n",
       " '茂名电白区童子湾旅游景区',\n",
       " '菠萝皮',\n",
       " '高钙大骨鸳鸯锅',\n",
       " '凤梨',\n",
       " '茂名碧海湾酒店',\n",
       " '杨挑鸭',\n",
       " '小东江',\n",
       " '罗定长岗坡渡槽',\n",
       " '东湖',\n",
       " '姻缘石',\n",
       " '碉楼',\n",
       " '博贺港码头',\n",
       " '骏怡连锁酒店(茂名信宜新尚路店)',\n",
       " '豆饼角',\n",
       " '信宜丽晶酒店',\n",
       " '牙象大地艺术公园',\n",
       " '御水古温泉',\n",
       " '海洋公园酒店',\n",
       " '甜品',\n",
       " '玉湖',\n",
       " '阳江汽车总站酒店',\n",
       " '高州仙人洞景区',\n",
       " '中国第一滩',\n",
       " '化州明都商务酒店',\n",
       " '渔岛度假村',\n",
       " '露天矿好心湖',\n",
       " '荔枝',\n",
       " '茂名德胜酒店',\n",
       " '雷州古城',\n",
       " '海鲜粥',\n",
       " '骑楼',\n",
       " '炒牛河',\n",
       " '紫菜肉松卷',\n",
       " '小炒',\n",
       " '露天矿生态公园',\n",
       " '化州天和宾馆',\n",
       " '海陵岛',\n",
       " '博物馆',\n",
       " '龙湾生态旅游区',\n",
       " '马降龙',\n",
       " '高州云鼎商务酒店',\n",
       " '榕树',\n",
       " '嘉和国际酒店',\n",
       " '晏镜岭',\n",
       " '茂名和富宾馆',\n",
       " '广州海上丝绸之路博物馆',\n",
       " '红树林',\n",
       " '悦享酒店(信宜九州店)',\n",
       " '茂名阿斯顿连锁酒店电城店',\n",
       " '水东西湖',\n",
       " '东湖公园',\n",
       " '菠萝包',\n",
       " '窦州古城',\n",
       " '蛋挞',\n",
       " '拉面',\n",
       " '粗薯',\n",
       " '红荔阁',\n",
       " '文武帝庙',\n",
       " '海滩',\n",
       " '卓越酒店(茂名六韬珠宝创意园店)',\n",
       " '信宜维程宾馆',\n",
       " '露天矿',\n",
       " 'B',\n",
       " '国家山地公园',\n",
       " '炸鸡',\n",
       " '油甘窝',\n",
       " '茂名水东镇吉利旅社',\n",
       " 'UNPOCO柏蔻',\n",
       " '煲仔饭',\n",
       " '化州橘恒商务酒店',\n",
       " '化州萬客隆酒店',\n",
       " '中心广场',\n",
       " '高凉郡古城',\n",
       " '薯条',\n",
       " '福鑫酒店',\n",
       " '湛江大桥',\n",
       " '雅米乐园',\n",
       " '白切鹅腿肉',\n",
       " '北洛湾',\n",
       " '炒乌冬',\n",
       " '博贺港',\n",
       " '湖光岩',\n",
       " '高州明悦宾馆',\n",
       " '甜点',\n",
       " '十里军港',\n",
       " '亲子游乐园',\n",
       " '英利商务酒店(化州上街路店)',\n",
       " '凉拌菜']"
      ]
     },
     "execution_count": 3,
     "metadata": {},
     "output_type": "execute_result"
    }
   ],
   "source": [
    "all_entitys = df_entity['实体'].values.tolist()\n",
    "all_entitys"
   ]
  },
  {
   "cell_type": "markdown",
   "id": "a54b86d8",
   "metadata": {},
   "source": [
    "### 数据维度"
   ]
  },
  {
   "cell_type": "code",
   "execution_count": 4,
   "id": "4e8d9992",
   "metadata": {
    "ExecuteTime": {
     "end_time": "2022-04-21T06:27:05.211670Z",
     "start_time": "2022-04-21T06:27:05.179660Z"
    }
   },
   "outputs": [
    {
     "data": {
      "text/plain": [
       "((294, 9), (1093, 7), (1203, 5), (6984, 6))"
      ]
     },
     "execution_count": 4,
     "metadata": {},
     "output_type": "execute_result"
    }
   ],
   "source": [
    "df1.shape, df2.shape, df3.shape, df4.shape"
   ]
  },
  {
   "cell_type": "markdown",
   "id": "f3b343da",
   "metadata": {},
   "source": [
    "## 数据处理"
   ]
  },
  {
   "cell_type": "markdown",
   "id": "903274b6",
   "metadata": {},
   "source": [
    "### 去除换行符"
   ]
  },
  {
   "cell_type": "code",
   "execution_count": 5,
   "id": "6ade48ab",
   "metadata": {
    "ExecuteTime": {
     "end_time": "2022-04-21T06:27:05.275684Z",
     "start_time": "2022-04-21T06:27:05.219672Z"
    }
   },
   "outputs": [],
   "source": [
    "df1['正文'] = df1['正文'].apply(lambda text: str(text).replace('\\n', '').replace(' ', ''))\n",
    "df2['评论内容'] = df2['评论内容'].apply(lambda text: str(text).replace('\\n', ''))\n",
    "df3['评论内容'] = df3['评论内容'].apply(lambda text: str(text).replace('\\n', ''))\n",
    "df4['评论内容'] = df4['评论内容'].apply(lambda text: str(text).replace('\\n', ''))"
   ]
  },
  {
   "cell_type": "code",
   "execution_count": 6,
   "id": "b174e39e",
   "metadata": {
    "ExecuteTime": {
     "end_time": "2022-04-21T06:27:05.307695Z",
     "start_time": "2022-04-21T06:27:05.275684Z"
    }
   },
   "outputs": [
    {
     "data": {
      "text/plain": [
       "(Index(['游记ID', '城市', '游记标题', '发布时间', '出发时间', '出行天数', '人物', '人均费用', '正文'], dtype='object'),\n",
       " Index(['酒店评论ID', '城市', '酒店名称', '评论日期', '评论内容', '入住日期', '入住房型'], dtype='object'),\n",
       " Index(['景区评论ID', '城市', '景区名称', '评论日期', '评论内容'], dtype='object'),\n",
       " Index(['餐饮评论ID', '城市', '餐饮名称', '评论日期', '评论内容', '标题'], dtype='object'))"
      ]
     },
     "execution_count": 6,
     "metadata": {},
     "output_type": "execute_result"
    }
   ],
   "source": [
    "df1.columns, df2.columns, df3.columns, df4.columns"
   ]
  },
  {
   "cell_type": "markdown",
   "id": "e07aa162",
   "metadata": {},
   "source": [
    "## BIO标注数据"
   ]
  },
  {
   "cell_type": "code",
   "execution_count": 7,
   "id": "26137268",
   "metadata": {
    "ExecuteTime": {
     "end_time": "2022-04-21T06:27:05.339701Z",
     "start_time": "2022-04-21T06:27:05.315696Z"
    }
   },
   "outputs": [],
   "source": [
    "def entity_code(data=None, name=None, entity=None):\n",
    "    # 标注实体\n",
    "    text_code_bi = []\n",
    "    for cont in data[name]:\n",
    "        for s in entity:\n",
    "            if s in cont:\n",
    "                cont = str(cont).replace(s, 'B' + 'I'*(len(s)-1))\n",
    "        text_code_bi.append(cont)\n",
    "    text_code_list = []\n",
    "    # 标注非实体\n",
    "    for cont in text_code_bi:     \n",
    "        for w in list(cont):\n",
    "            if w not in 'BIO':\n",
    "                cont = cont.replace(w, 'O')\n",
    "        text_code_list.append(cont)\n",
    "    data['实体编码'] = text_code_list\n",
    "    return data"
   ]
  },
  {
   "cell_type": "markdown",
   "id": "daa28ca2",
   "metadata": {},
   "source": [
    "### 标注实体"
   ]
  },
  {
   "cell_type": "code",
   "execution_count": 8,
   "id": "19f73b6d",
   "metadata": {
    "ExecuteTime": {
     "end_time": "2022-04-21T06:27:06.409497Z",
     "start_time": "2022-04-21T06:27:05.339701Z"
    }
   },
   "outputs": [],
   "source": [
    "df_1 = entity_code(df1, '正文', all_entitys)\n",
    "df_2 = entity_code(df2, '评论内容', all_entitys)\n",
    "df_3 = entity_code(df3, '评论内容', all_entitys)\n",
    "df_4 = entity_code(df4, '评论内容', all_entitys)"
   ]
  },
  {
   "cell_type": "code",
   "execution_count": 9,
   "id": "d1dd3e21",
   "metadata": {
    "ExecuteTime": {
     "end_time": "2022-04-21T06:27:06.434221Z",
     "start_time": "2022-04-21T06:27:06.409497Z"
    }
   },
   "outputs": [
    {
     "data": {
      "text/plain": [
       "0      OOOOOOOOOOOOOOOOOOOOOOOOOOOOOOOOOOOOOOOOOOOOOO...\n",
       "1      OOOOOOOOOOOOOOOOOOOOOOOOOOOOOOOOOOOOOOOOOOOOOO...\n",
       "2      OOOOOOOOOOOOOOOOOOOOOOOOOOOOOOOOOOOOOOOOOOOOOO...\n",
       "3      OOOOOOOOOOOOOOOOOOOOOOOOOOOOOOOOOOOOOOOOOOOOOO...\n",
       "4      OOOOOOOOOOOOOOOOOOOOOOOOOOOOOOOOOOOOOOOOOOOOOO...\n",
       "                             ...                        \n",
       "289    OOOBIIIIOOOOOOOOOOOOOOOOOOOOOOOOOOOOOOOOOOOOOO...\n",
       "290    OOOOOBIIIIOOOOOOOOBIIIIOOOOOOOOOOOOOOOOOOOOOOO...\n",
       "291    OOOOOOOOOOOOOOOOOOOOOOOOOOOOOOOOOOOOOOOOOOOOOO...\n",
       "292    OOOOOOOOOOOOOOOOOOOOOOOOOOOOOOOOOOOOOOOOOOOOOO...\n",
       "293    OOOOOOOOOOOOOOOOOOOOOOOOOOOOOOOOOOOOOOOOOOOOOO...\n",
       "Name: 实体编码, Length: 294, dtype: object"
      ]
     },
     "execution_count": 9,
     "metadata": {},
     "output_type": "execute_result"
    }
   ],
   "source": [
    "df_1['实体编码']"
   ]
  },
  {
   "cell_type": "code",
   "execution_count": 10,
   "id": "bed3f6a2",
   "metadata": {
    "ExecuteTime": {
     "end_time": "2022-04-21T06:27:06.466222Z",
     "start_time": "2022-04-21T06:27:06.442219Z"
    }
   },
   "outputs": [
    {
     "data": {
      "text/plain": [
       "0                                                 OOOOOOO\n",
       "1                                                OOOOOOOO\n",
       "2       OOOOOOOOOOOOOOOOOOOOOOOOOOOOOOOOOOOOOOOOOOOOOO...\n",
       "3                                         OOOOOOOOOOOOOOO\n",
       "4                                      OOOOOOOOOOOOOOOOOO\n",
       "                              ...                        \n",
       "1088                                    OOOOOOOOOOOOOOOOO\n",
       "1089                                    OOOOOOOOOOOOOOOOO\n",
       "1090                       OOOOOOOOOOOOOOOOOOOOOOOOOOOOBI\n",
       "1091    OOOOOOOOOOOOOOOOOOOOOOOOOOOOOOOOOOOOOOOOOOOOOO...\n",
       "1092                                   OOOOOOOOOOOOOOOOOO\n",
       "Name: 实体编码, Length: 1093, dtype: object"
      ]
     },
     "execution_count": 10,
     "metadata": {},
     "output_type": "execute_result"
    }
   ],
   "source": [
    "df_2['实体编码']"
   ]
  },
  {
   "cell_type": "code",
   "execution_count": 11,
   "id": "c9f20219",
   "metadata": {
    "ExecuteTime": {
     "end_time": "2022-04-21T06:27:06.514237Z",
     "start_time": "2022-04-21T06:27:06.466222Z"
    }
   },
   "outputs": [
    {
     "data": {
      "text/plain": [
       "0                                           OOOOOOOOOOOOO\n",
       "1       OOOOOOOOOOOOOOOOOOOOOOOOOOOOOOOOOOOOOOOOOOOOOO...\n",
       "2       OOOOOOOOOOOOOOOOOOOOOOOOOOOOOOOOOOOOOOOOOOOOOO...\n",
       "3           OOOOOOOOOOOOOOOOOOOOOOOOOOOOOOOOOOOOOOOOOOOOO\n",
       "4       OOOOOOOOOOOOOBIIOOOOOOOOOOOOOOOOOOOOOOOOOOOOOO...\n",
       "                              ...                        \n",
       "1198    OOOOOOOOOOOOOOOOOOOOOOOOOOOOOOOOOOOOOOOOOOOOOO...\n",
       "1199    BIIOOOOOOOOOOOOOOOOOOOOOOOOOOOOOOOOOOOOOOOOOOO...\n",
       "1200    OOOOOOOOOOOOOOOOOOOOOOOOOOOOOOOOOOOOOOOOOOOOOO...\n",
       "1201               OOOOOOOOOOOOOOOOOOOOOOOOOOOOOOOOOOOOOO\n",
       "1202    OOOOOOOOOOOOOOOOOOOOOOOOOOOOOOOOOOOOOOOOOOOOOO...\n",
       "Name: 实体编码, Length: 1203, dtype: object"
      ]
     },
     "execution_count": 11,
     "metadata": {},
     "output_type": "execute_result"
    }
   ],
   "source": [
    "df_3['实体编码']"
   ]
  },
  {
   "cell_type": "code",
   "execution_count": 12,
   "id": "75e1dbe1",
   "metadata": {
    "ExecuteTime": {
     "end_time": "2022-04-21T06:27:06.546244Z",
     "start_time": "2022-04-21T06:27:06.514237Z"
    }
   },
   "outputs": [
    {
     "data": {
      "text/plain": [
       "0                                       OOOOOO\n",
       "1                               OOOOOOOOOOOOOO\n",
       "2       OOOOOOOOOOOOOOOOOOOOOOOOOOOOOOOOOOOOOO\n",
       "3                    OOOOOOOOOOOOOOOOOOOOOOOOO\n",
       "4           OOOOOOOOOOOOOOOOOOOOOOOOOOOOOOOOOO\n",
       "                         ...                  \n",
       "6979                       OOOOOOOOOOOOOOOOOOO\n",
       "6980                             OOOOOOOOOOOOO\n",
       "6981                                       OOO\n",
       "6982                                       OOO\n",
       "6983                                    OOOOOO\n",
       "Name: 实体编码, Length: 6984, dtype: object"
      ]
     },
     "execution_count": 12,
     "metadata": {},
     "output_type": "execute_result"
    }
   ],
   "source": [
    "df_4['实体编码']"
   ]
  },
  {
   "cell_type": "markdown",
   "id": "364a9e14",
   "metadata": {},
   "source": [
    "### 保存数据"
   ]
  },
  {
   "cell_type": "code",
   "execution_count": 13,
   "id": "922fafed",
   "metadata": {
    "ExecuteTime": {
     "end_time": "2022-04-21T06:27:06.767420Z",
     "start_time": "2022-04-21T06:27:06.546244Z"
    }
   },
   "outputs": [],
   "source": [
    "df_1.to_csv('data/游记攻略标注后的数据.csv', index=False)\n",
    "df_2.to_csv('data/酒店评论标注后的数据.csv', index=False)\n",
    "df_3.to_csv('data/景区标注后的数据.csv', index=False)\n",
    "df_4.to_csv('data/餐饮标注后的数据.csv', index=False)"
   ]
  },
  {
   "cell_type": "code",
   "execution_count": null,
   "id": "a66fa465",
   "metadata": {},
   "outputs": [],
   "source": []
  }
 ],
 "metadata": {
  "kernelspec": {
   "display_name": "Python [conda env:pytorch]",
   "language": "python",
   "name": "conda-env-pytorch-py"
  },
  "language_info": {
   "codemirror_mode": {
    "name": "ipython",
    "version": 3
   },
   "file_extension": ".py",
   "mimetype": "text/x-python",
   "name": "python",
   "nbconvert_exporter": "python",
   "pygments_lexer": "ipython3",
   "version": "3.7.0"
  },
  "toc": {
   "base_numbering": 1,
   "nav_menu": {},
   "number_sections": true,
   "sideBar": true,
   "skip_h1_title": false,
   "title_cell": "Table of Contents",
   "title_sidebar": "Contents",
   "toc_cell": false,
   "toc_position": {},
   "toc_section_display": true,
   "toc_window_display": true
  }
 },
 "nbformat": 4,
 "nbformat_minor": 5
}
