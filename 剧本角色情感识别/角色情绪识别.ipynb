{
 "cells": [
  {
   "cell_type": "markdown",
   "id": "651836f4",
   "metadata": {},
   "source": [
    "## 加载相关包"
   ]
  },
  {
   "cell_type": "code",
   "execution_count": 78,
   "id": "1bbceef4",
   "metadata": {},
   "outputs": [],
   "source": [
    "import pandas as pd \n",
    "import numpy as np\n",
    "import seaborn as sns\n",
    "import jieba\n",
    "import math\n",
    "from tqdm import tqdm\n",
    "from gensim import corpora\n",
    "from gensim.models import Word2Vec, TfidfModel\n",
    "from sklearn.model_selection import train_test_split, StratifiedKFold\n",
    "from sklearn.metrics import mean_squared_error\n",
    "from lightgbm import LGBMClassifier as XGBC\n",
    "from keras.models import Sequential\n",
    "from keras.layers import Dense, Dropout\n",
    "from keras.layers import Embedding\n",
    "from keras.layers import LSTM\n",
    "from keras import layers\n",
    "from keras.optimizers import RMSprop\n",
    "from keras.callbacks import EarlyStopping\n",
    "from warnings import filterwarnings\n",
    "from tkinter import _flatten\n",
    "filterwarnings('ignore')"
   ]
  },
  {
   "cell_type": "markdown",
   "id": "63c1a2fd",
   "metadata": {},
   "source": [
    "## 加载数据"
   ]
  },
  {
   "cell_type": "code",
   "execution_count": 2,
   "id": "b4443cb5",
   "metadata": {},
   "outputs": [
    {
     "name": "stderr",
     "output_type": "stream",
     "text": [
      "100%|██████████| 42790/42790 [00:00<00:00, 541612.90it/s]\n"
     ]
    }
   ],
   "source": [
    "with open('train_dataset_v2.tsv', 'r', encoding='utf-8') as handler:\n",
    "    lines = handler.read().split('\\n')[1:-1]\n",
    "\n",
    "    data = list()\n",
    "    for line in tqdm(lines):\n",
    "        # 处理异常数据         \n",
    "        sp = line.split('\\t')\n",
    "        if len(sp) != 4:\n",
    "            print(\"ERROR:\", sp)\n",
    "            continue\n",
    "        data.append(sp)\n",
    "\n",
    "train = pd.DataFrame(data)\n",
    "train.columns = ['id', 'content', 'character', 'emotions']\n",
    "\n",
    "test = pd.read_csv('test_dataset.tsv', sep='\\t')  # 测试数据\n",
    "submit = pd.read_csv('submit_example.tsv', sep='\\t')  # 提交样例\n",
    "train = train[train['emotions'] != '']"
   ]
  },
  {
   "cell_type": "code",
   "execution_count": 3,
   "id": "62cc12dc",
   "metadata": {},
   "outputs": [],
   "source": [
    "with open('D:\\Code\\Jupyter_code\\文本挖掘项目\\stopword.txt', 'r', encoding='utf-8') as fp:\n",
    "    stopword = set()\n",
    "    word = fp.readlines()\n",
    "    for w in word:\n",
    "        stopword.add(w.replace('\\n', ''))"
   ]
  },
  {
   "cell_type": "code",
   "execution_count": 4,
   "id": "04ea621c",
   "metadata": {},
   "outputs": [
    {
     "data": {
      "text/plain": [
       "((36782, 4), (21376, 3), (21376, 2))"
      ]
     },
     "execution_count": 4,
     "metadata": {},
     "output_type": "execute_result"
    }
   ],
   "source": [
    "train.shape, test.shape, submit.shape "
   ]
  },
  {
   "cell_type": "code",
   "execution_count": 5,
   "id": "f2b1442f",
   "metadata": {},
   "outputs": [
    {
     "data": {
      "text/html": [
       "<div>\n",
       "<style scoped>\n",
       "    .dataframe tbody tr th:only-of-type {\n",
       "        vertical-align: middle;\n",
       "    }\n",
       "\n",
       "    .dataframe tbody tr th {\n",
       "        vertical-align: top;\n",
       "    }\n",
       "\n",
       "    .dataframe thead th {\n",
       "        text-align: right;\n",
       "    }\n",
       "</style>\n",
       "<table border=\"1\" class=\"dataframe\">\n",
       "  <thead>\n",
       "    <tr style=\"text-align: right;\">\n",
       "      <th></th>\n",
       "      <th>id</th>\n",
       "      <th>content</th>\n",
       "      <th>character</th>\n",
       "      <th>emotions</th>\n",
       "    </tr>\n",
       "  </thead>\n",
       "  <tbody>\n",
       "    <tr>\n",
       "      <th>0</th>\n",
       "      <td>1171_0001_A_1</td>\n",
       "      <td>天空下着暴雨，o2正在给c1穿雨衣，他自己却只穿着单薄的军装，完全暴露在大雨之中。</td>\n",
       "      <td>o2</td>\n",
       "      <td>0,0,0,0,0,0</td>\n",
       "    </tr>\n",
       "    <tr>\n",
       "      <th>1</th>\n",
       "      <td>1171_0001_A_2</td>\n",
       "      <td>天空下着暴雨，o2正在给c1穿雨衣，他自己却只穿着单薄的军装，完全暴露在大雨之中。</td>\n",
       "      <td>c1</td>\n",
       "      <td>0,0,0,0,0,0</td>\n",
       "    </tr>\n",
       "    <tr>\n",
       "      <th>2</th>\n",
       "      <td>1171_0001_A_3</td>\n",
       "      <td>o2一手拿着一个行李，一路小跑着把c1带到了文工团门口。</td>\n",
       "      <td>o2</td>\n",
       "      <td>0,0,0,0,0,0</td>\n",
       "    </tr>\n",
       "    <tr>\n",
       "      <th>3</th>\n",
       "      <td>1171_0001_A_4</td>\n",
       "      <td>o2一手拿着一个行李，一路小跑着把c1带到了文工团门口。</td>\n",
       "      <td>c1</td>\n",
       "      <td>0,0,0,0,0,0</td>\n",
       "    </tr>\n",
       "    <tr>\n",
       "      <th>4</th>\n",
       "      <td>1171_0001_A_5</td>\n",
       "      <td>o2停下来接过c1手里的行李：你妈妈交待我了，等领了军装一定要照张相寄回去，让街坊邻居都知道...</td>\n",
       "      <td>o2</td>\n",
       "      <td>0,0,0,0,0,0</td>\n",
       "    </tr>\n",
       "  </tbody>\n",
       "</table>\n",
       "</div>"
      ],
      "text/plain": [
       "              id                                            content character  \\\n",
       "0  1171_0001_A_1          天空下着暴雨，o2正在给c1穿雨衣，他自己却只穿着单薄的军装，完全暴露在大雨之中。        o2   \n",
       "1  1171_0001_A_2          天空下着暴雨，o2正在给c1穿雨衣，他自己却只穿着单薄的军装，完全暴露在大雨之中。        c1   \n",
       "2  1171_0001_A_3                       o2一手拿着一个行李，一路小跑着把c1带到了文工团门口。        o2   \n",
       "3  1171_0001_A_4                       o2一手拿着一个行李，一路小跑着把c1带到了文工团门口。        c1   \n",
       "4  1171_0001_A_5  o2停下来接过c1手里的行李：你妈妈交待我了，等领了军装一定要照张相寄回去，让街坊邻居都知道...        o2   \n",
       "\n",
       "      emotions  \n",
       "0  0,0,0,0,0,0  \n",
       "1  0,0,0,0,0,0  \n",
       "2  0,0,0,0,0,0  \n",
       "3  0,0,0,0,0,0  \n",
       "4  0,0,0,0,0,0  "
      ]
     },
     "execution_count": 5,
     "metadata": {},
     "output_type": "execute_result"
    }
   ],
   "source": [
    "train.head()"
   ]
  },
  {
   "cell_type": "code",
   "execution_count": 6,
   "id": "9551192a",
   "metadata": {},
   "outputs": [
    {
     "data": {
      "text/html": [
       "<div>\n",
       "<style scoped>\n",
       "    .dataframe tbody tr th:only-of-type {\n",
       "        vertical-align: middle;\n",
       "    }\n",
       "\n",
       "    .dataframe tbody tr th {\n",
       "        vertical-align: top;\n",
       "    }\n",
       "\n",
       "    .dataframe thead th {\n",
       "        text-align: right;\n",
       "    }\n",
       "</style>\n",
       "<table border=\"1\" class=\"dataframe\">\n",
       "  <thead>\n",
       "    <tr style=\"text-align: right;\">\n",
       "      <th></th>\n",
       "      <th>id</th>\n",
       "      <th>content</th>\n",
       "      <th>character</th>\n",
       "    </tr>\n",
       "  </thead>\n",
       "  <tbody>\n",
       "    <tr>\n",
       "      <th>0</th>\n",
       "      <td>34170_0002_A_12</td>\n",
       "      <td>穿着背心的b1醒来，看看手机，三点了。</td>\n",
       "      <td>b1</td>\n",
       "    </tr>\n",
       "    <tr>\n",
       "      <th>1</th>\n",
       "      <td>34170_0002_A_14</td>\n",
       "      <td>b1走出卧室。</td>\n",
       "      <td>b1</td>\n",
       "    </tr>\n",
       "    <tr>\n",
       "      <th>2</th>\n",
       "      <td>34170_0003_A_16</td>\n",
       "      <td>b1拿着手机，点开计时功能。</td>\n",
       "      <td>b1</td>\n",
       "    </tr>\n",
       "    <tr>\n",
       "      <th>3</th>\n",
       "      <td>34170_0003_A_17</td>\n",
       "      <td>b1站在淋浴头下面，水从b1的头和脸上冲刷而过。</td>\n",
       "      <td>b1</td>\n",
       "    </tr>\n",
       "    <tr>\n",
       "      <th>4</th>\n",
       "      <td>34170_0003_A_18</td>\n",
       "      <td>b1摈着呼吸。</td>\n",
       "      <td>b1</td>\n",
       "    </tr>\n",
       "  </tbody>\n",
       "</table>\n",
       "</div>"
      ],
      "text/plain": [
       "                id                   content character\n",
       "0  34170_0002_A_12       穿着背心的b1醒来，看看手机，三点了。        b1\n",
       "1  34170_0002_A_14                   b1走出卧室。        b1\n",
       "2  34170_0003_A_16            b1拿着手机，点开计时功能。        b1\n",
       "3  34170_0003_A_17  b1站在淋浴头下面，水从b1的头和脸上冲刷而过。        b1\n",
       "4  34170_0003_A_18                   b1摈着呼吸。        b1"
      ]
     },
     "execution_count": 6,
     "metadata": {},
     "output_type": "execute_result"
    }
   ],
   "source": [
    "test.head()"
   ]
  },
  {
   "cell_type": "markdown",
   "id": "75cdeb22",
   "metadata": {},
   "source": [
    "## 数据预处理处理"
   ]
  },
  {
   "cell_type": "markdown",
   "id": "6462ddae",
   "metadata": {},
   "source": [
    "### 文本拼接"
   ]
  },
  {
   "cell_type": "code",
   "execution_count": 7,
   "id": "f49ffcda",
   "metadata": {},
   "outputs": [],
   "source": [
    "train['text'] = train[ 'content'].astype(str)  +'角色: ' + train['character'].astype(str)\n",
    "test['text'] = test['content'].astype(str) + ' 角色: ' + test['character'].astype(str)"
   ]
  },
  {
   "cell_type": "markdown",
   "id": "05f746fa",
   "metadata": {},
   "source": [
    "### 文本分词"
   ]
  },
  {
   "cell_type": "code",
   "execution_count": 9,
   "id": "e79821f3",
   "metadata": {},
   "outputs": [],
   "source": [
    "content = pd.concat([train['text'], test['text']]).reset_index(drop=True)"
   ]
  },
  {
   "cell_type": "code",
   "execution_count": 10,
   "id": "5a083588",
   "metadata": {},
   "outputs": [
    {
     "name": "stderr",
     "output_type": "stream",
     "text": [
      "Building prefix dict from the default dictionary ...\n",
      "Loading model from cache C:\\Users\\hx\\AppData\\Local\\Temp\\jieba.cache\n",
      "Loading model cost 0.924 seconds.\n",
      "Prefix dict has been built successfully.\n"
     ]
    }
   ],
   "source": [
    "content_cut = content.apply(lambda text:[w for w in jieba.lcut(text) if w not in stopword])"
   ]
  },
  {
   "cell_type": "markdown",
   "id": "b4b57198",
   "metadata": {},
   "source": [
    "## bert构建句向量"
   ]
  },
  {
   "cell_type": "code",
   "execution_count": 12,
   "id": "59de8851",
   "metadata": {},
   "outputs": [],
   "source": [
    "from bert_serving.client import BertClient\n",
    "bc = BertClient()"
   ]
  },
  {
   "cell_type": "code",
   "execution_count": 20,
   "id": "72bf7a92",
   "metadata": {},
   "outputs": [],
   "source": [
    "bert_X = bc.encode(train['content'].tolist())"
   ]
  },
  {
   "cell_type": "code",
   "execution_count": 27,
   "id": "374d2c5a",
   "metadata": {},
   "outputs": [],
   "source": [
    "y = train['emotions']\n",
    "y = np.array(list(map(lambda ls:list(map(int, ls)), list(map(lambda string: string.split(','), y.values)))))\n",
    "\n",
    "x_train, x_test, y_train, y_test = train_test_split(bert_X, y, test_size=0.2, random_state=2021)\n",
    "x_train=x_train.reshape(x_train.shape[0],1,x_train.shape[1])"
   ]
  },
  {
   "cell_type": "code",
   "execution_count": 106,
   "id": "73118b3f",
   "metadata": {},
   "outputs": [],
   "source": [
    "bigru = Sequential()\n",
    "bigru.add(layers.Bidirectional(layers.GRU(128), input_shape=(None, 768)))\n",
    "bigru.add(layers.Dropout(0.5))\n",
    "bigru.add(layers.Dense(6))\n",
    "bigru.compile(optimizer=RMSprop(), loss='mse')"
   ]
  },
  {
   "cell_type": "code",
   "execution_count": null,
   "id": "c9717a9e",
   "metadata": {
    "scrolled": false
   },
   "outputs": [
    {
     "name": "stdout",
     "output_type": "stream",
     "text": [
      "Train on 29425 samples, validate on 7357 samples\n",
      "Epoch 1/5\n",
      "19712/29425 [===================>..........] - ETA: 6s - loss: 0.2738"
     ]
    }
   ],
   "source": [
    "# es = EarlyStopping(monitor='val_loss', patience=1)\n",
    "History = bigru.fit(bert_X.reshape(bert_X.shape[0],1,bert_X.shape[1]), y, batch_size=128, epochs=5,validation_split=0.2)"
   ]
  },
  {
   "cell_type": "code",
   "execution_count": 98,
   "id": "65a88719",
   "metadata": {},
   "outputs": [
    {
     "data": {
      "text/plain": [
       "<matplotlib.legend.Legend at 0x19fb8dcada0>"
      ]
     },
     "execution_count": 98,
     "metadata": {},
     "output_type": "execute_result"
    },
    {
     "data": {
      "image/png": "[encoded data removed]",
      "text/plain": [
       "<Figure size 432x288 with 1 Axes>"
      ]
     },
     "metadata": {
      "needs_background": "light"
     },
     "output_type": "display_data"
    }
   ],
   "source": [
    "import matplotlib.pyplot as plt\n",
    "epochs = range(1, len(History.history['loss'])+1)\n",
    "plt.plot(epochs, History.history['loss'], label='training loss')\n",
    "plt.plot(epochs, History.history['val_loss'], label='validation loss')\n",
    "plt.legend()"
   ]
  },
  {
   "cell_type": "code",
   "execution_count": 99,
   "id": "714c89c8",
   "metadata": {},
   "outputs": [
    {
     "data": {
      "text/plain": [
       "0.6917795774969923"
      ]
     },
     "execution_count": 99,
     "metadata": {},
     "output_type": "execute_result"
    }
   ],
   "source": [
    "test_pred = bigru.predict(x_test.reshape(x_test.shape[0],1,x_test.shape[1]))\n",
    "rmse = np.sqrt(((test_pred - y_test) ** 2).sum()/(6*y_test.shape[0]))\n",
    "score = 1 / (1 + rmse)\n",
    "score"
   ]
  },
  {
   "cell_type": "code",
   "execution_count": 47,
   "id": "6a8588ac",
   "metadata": {},
   "outputs": [],
   "source": [
    "gru_pred = bc.encode(test['content'].tolist())"
   ]
  },
  {
   "cell_type": "code",
   "execution_count": 51,
   "id": "ab9b2e27",
   "metadata": {},
   "outputs": [],
   "source": [
    "gru_predict = bigru.predict(gru_pred.reshape(gru_pred.shape[0], 1, gru_pred.shape[1]))"
   ]
  },
  {
   "cell_type": "code",
   "execution_count": 52,
   "id": "56b0b92d",
   "metadata": {},
   "outputs": [],
   "source": [
    "gru_predict = list(map(lambda ls:','.join(list(map(str, ls))), list(gru_predict)))"
   ]
  },
  {
   "cell_type": "code",
   "execution_count": 53,
   "id": "e980d485",
   "metadata": {},
   "outputs": [],
   "source": [
    "sub = submit.copy()\n",
    "sub['id'] = test['id']\n",
    "sub['emotion'] = gru_predict"
   ]
  },
  {
   "cell_type": "code",
   "execution_count": 54,
   "id": "785bbb27",
   "metadata": {},
   "outputs": [],
   "source": [
    "sub.to_csv(f'bert_gru_pred.tsv', sep='\\t', index=False)"
   ]
  },
  {
   "cell_type": "markdown",
   "id": "e7d21961",
   "metadata": {},
   "source": [
    "### word2vec构建词向量"
   ]
  },
  {
   "cell_type": "code",
   "execution_count": 12,
   "id": "31d9a78a",
   "metadata": {},
   "outputs": [],
   "source": [
    "def word2vec_model():\n",
    "    model = Word2Vec(content_cut.to_list(), vector_size=200, window=5, min_count=1, seed=1, workers=4)\n",
    "    model.save(\"word2vec.model\")\n",
    "word2vec_model()"
   ]
  },
  {
   "cell_type": "code",
   "execution_count": 13,
   "id": "dea8313a",
   "metadata": {},
   "outputs": [],
   "source": [
    "model = Word2Vec.load(\"word2vec.model\")\n",
    "model.train(content_cut.to_list(), total_examples=model.corpus_count, epochs=10)\n",
    "wv = model.wv"
   ]
  },
  {
   "cell_type": "code",
   "execution_count": 14,
   "id": "18790ff4",
   "metadata": {},
   "outputs": [],
   "source": [
    "def get_text_vec():\n",
    "    text_vec = np.zeros((content.shape[0], 200))\n",
    "    for ind, text in enumerate(content):\n",
    "        wlen = len(text)\n",
    "        vec = np.zeros((1, 200))\n",
    "        for w in text:\n",
    "            try:\n",
    "                vec += wv[w]\n",
    "            except:\n",
    "                pass\n",
    "        text_vec[ind] = vec/wlen\n",
    "    word2vec = pd.DataFrame(data=text_vec)\n",
    "    word2vec.to_csv('word2vec.csv', index=False)\n",
    "get_text_vec()"
   ]
  },
  {
   "cell_type": "code",
   "execution_count": 15,
   "id": "4dae1260",
   "metadata": {},
   "outputs": [],
   "source": [
    "text_vec = pd.read_csv('word2vec.csv')"
   ]
  },
  {
   "cell_type": "code",
   "execution_count": 16,
   "id": "17e52722",
   "metadata": {},
   "outputs": [
    {
     "data": {
      "text/html": [
       "<div>\n",
       "<style scoped>\n",
       "    .dataframe tbody tr th:only-of-type {\n",
       "        vertical-align: middle;\n",
       "    }\n",
       "\n",
       "    .dataframe tbody tr th {\n",
       "        vertical-align: top;\n",
       "    }\n",
       "\n",
       "    .dataframe thead th {\n",
       "        text-align: right;\n",
       "    }\n",
       "</style>\n",
       "<table border=\"1\" class=\"dataframe\">\n",
       "  <thead>\n",
       "    <tr style=\"text-align: right;\">\n",
       "      <th></th>\n",
       "      <th>0</th>\n",
       "      <th>1</th>\n",
       "      <th>2</th>\n",
       "      <th>3</th>\n",
       "      <th>4</th>\n",
       "      <th>5</th>\n",
       "      <th>6</th>\n",
       "      <th>7</th>\n",
       "      <th>8</th>\n",
       "      <th>9</th>\n",
       "      <th>...</th>\n",
       "      <th>190</th>\n",
       "      <th>191</th>\n",
       "      <th>192</th>\n",
       "      <th>193</th>\n",
       "      <th>194</th>\n",
       "      <th>195</th>\n",
       "      <th>196</th>\n",
       "      <th>197</th>\n",
       "      <th>198</th>\n",
       "      <th>199</th>\n",
       "    </tr>\n",
       "  </thead>\n",
       "  <tbody>\n",
       "    <tr>\n",
       "      <th>0</th>\n",
       "      <td>-0.287983</td>\n",
       "      <td>0.239072</td>\n",
       "      <td>0.041370</td>\n",
       "      <td>0.008274</td>\n",
       "      <td>0.150682</td>\n",
       "      <td>0.064476</td>\n",
       "      <td>0.145689</td>\n",
       "      <td>0.116890</td>\n",
       "      <td>-0.404228</td>\n",
       "      <td>0.122925</td>\n",
       "      <td>...</td>\n",
       "      <td>-0.301505</td>\n",
       "      <td>0.086171</td>\n",
       "      <td>0.171144</td>\n",
       "      <td>-0.165600</td>\n",
       "      <td>0.274524</td>\n",
       "      <td>-0.014853</td>\n",
       "      <td>0.127183</td>\n",
       "      <td>0.178372</td>\n",
       "      <td>-0.064102</td>\n",
       "      <td>-0.007949</td>\n",
       "    </tr>\n",
       "    <tr>\n",
       "      <th>1</th>\n",
       "      <td>-0.296018</td>\n",
       "      <td>0.241943</td>\n",
       "      <td>0.046356</td>\n",
       "      <td>0.001387</td>\n",
       "      <td>0.145324</td>\n",
       "      <td>0.070459</td>\n",
       "      <td>0.146692</td>\n",
       "      <td>0.115230</td>\n",
       "      <td>-0.397731</td>\n",
       "      <td>0.126358</td>\n",
       "      <td>...</td>\n",
       "      <td>-0.303598</td>\n",
       "      <td>0.089348</td>\n",
       "      <td>0.182960</td>\n",
       "      <td>-0.165907</td>\n",
       "      <td>0.278168</td>\n",
       "      <td>-0.011777</td>\n",
       "      <td>0.126024</td>\n",
       "      <td>0.184988</td>\n",
       "      <td>-0.071368</td>\n",
       "      <td>-0.006784</td>\n",
       "    </tr>\n",
       "    <tr>\n",
       "      <th>2</th>\n",
       "      <td>-0.105292</td>\n",
       "      <td>0.095393</td>\n",
       "      <td>0.263808</td>\n",
       "      <td>-0.222095</td>\n",
       "      <td>0.439335</td>\n",
       "      <td>0.084933</td>\n",
       "      <td>-0.075143</td>\n",
       "      <td>0.253390</td>\n",
       "      <td>-0.152075</td>\n",
       "      <td>0.079878</td>\n",
       "      <td>...</td>\n",
       "      <td>-0.372476</td>\n",
       "      <td>-0.035087</td>\n",
       "      <td>0.089030</td>\n",
       "      <td>-0.257707</td>\n",
       "      <td>0.107796</td>\n",
       "      <td>-0.122243</td>\n",
       "      <td>0.400839</td>\n",
       "      <td>-0.388399</td>\n",
       "      <td>-0.388311</td>\n",
       "      <td>0.283492</td>\n",
       "    </tr>\n",
       "    <tr>\n",
       "      <th>3</th>\n",
       "      <td>-0.116400</td>\n",
       "      <td>0.099361</td>\n",
       "      <td>0.270700</td>\n",
       "      <td>-0.231615</td>\n",
       "      <td>0.431929</td>\n",
       "      <td>0.093204</td>\n",
       "      <td>-0.073756</td>\n",
       "      <td>0.251096</td>\n",
       "      <td>-0.143094</td>\n",
       "      <td>0.084625</td>\n",
       "      <td>...</td>\n",
       "      <td>-0.375370</td>\n",
       "      <td>-0.030695</td>\n",
       "      <td>0.105363</td>\n",
       "      <td>-0.258130</td>\n",
       "      <td>0.112833</td>\n",
       "      <td>-0.117992</td>\n",
       "      <td>0.399236</td>\n",
       "      <td>-0.379254</td>\n",
       "      <td>-0.398354</td>\n",
       "      <td>0.285102</td>\n",
       "    </tr>\n",
       "    <tr>\n",
       "      <th>4</th>\n",
       "      <td>-0.097889</td>\n",
       "      <td>-0.130441</td>\n",
       "      <td>0.089530</td>\n",
       "      <td>-0.167821</td>\n",
       "      <td>0.251095</td>\n",
       "      <td>0.240528</td>\n",
       "      <td>0.071192</td>\n",
       "      <td>0.048989</td>\n",
       "      <td>0.175803</td>\n",
       "      <td>0.048601</td>\n",
       "      <td>...</td>\n",
       "      <td>-0.282128</td>\n",
       "      <td>-0.033234</td>\n",
       "      <td>0.087585</td>\n",
       "      <td>-0.481931</td>\n",
       "      <td>0.033087</td>\n",
       "      <td>0.396729</td>\n",
       "      <td>0.395582</td>\n",
       "      <td>-0.136954</td>\n",
       "      <td>0.217406</td>\n",
       "      <td>-0.079245</td>\n",
       "    </tr>\n",
       "  </tbody>\n",
       "</table>\n",
       "<p>5 rows × 200 columns</p>\n",
       "</div>"
      ],
      "text/plain": [
       "          0         1         2         3         4         5         6  \\\n",
       "0 -0.287983  0.239072  0.041370  0.008274  0.150682  0.064476  0.145689   \n",
       "1 -0.296018  0.241943  0.046356  0.001387  0.145324  0.070459  0.146692   \n",
       "2 -0.105292  0.095393  0.263808 -0.222095  0.439335  0.084933 -0.075143   \n",
       "3 -0.116400  0.099361  0.270700 -0.231615  0.431929  0.093204 -0.073756   \n",
       "4 -0.097889 -0.130441  0.089530 -0.167821  0.251095  0.240528  0.071192   \n",
       "\n",
       "          7         8         9  ...       190       191       192       193  \\\n",
       "0  0.116890 -0.404228  0.122925  ... -0.301505  0.086171  0.171144 -0.165600   \n",
       "1  0.115230 -0.397731  0.126358  ... -0.303598  0.089348  0.182960 -0.165907   \n",
       "2  0.253390 -0.152075  0.079878  ... -0.372476 -0.035087  0.089030 -0.257707   \n",
       "3  0.251096 -0.143094  0.084625  ... -0.375370 -0.030695  0.105363 -0.258130   \n",
       "4  0.048989  0.175803  0.048601  ... -0.282128 -0.033234  0.087585 -0.481931   \n",
       "\n",
       "        194       195       196       197       198       199  \n",
       "0  0.274524 -0.014853  0.127183  0.178372 -0.064102 -0.007949  \n",
       "1  0.278168 -0.011777  0.126024  0.184988 -0.071368 -0.006784  \n",
       "2  0.107796 -0.122243  0.400839 -0.388399 -0.388311  0.283492  \n",
       "3  0.112833 -0.117992  0.399236 -0.379254 -0.398354  0.285102  \n",
       "4  0.033087  0.396729  0.395582 -0.136954  0.217406 -0.079245  \n",
       "\n",
       "[5 rows x 200 columns]"
      ]
     },
     "execution_count": 16,
     "metadata": {},
     "output_type": "execute_result"
    }
   ],
   "source": [
    "text_vec.head()"
   ]
  },
  {
   "cell_type": "code",
   "execution_count": 17,
   "id": "3cdddd95",
   "metadata": {},
   "outputs": [
    {
     "data": {
      "text/plain": [
       "(58158, 200)"
      ]
     },
     "execution_count": 17,
     "metadata": {},
     "output_type": "execute_result"
    }
   ],
   "source": [
    "text_vec.shape"
   ]
  },
  {
   "cell_type": "markdown",
   "id": "9993dc86",
   "metadata": {},
   "source": [
    "## 6 模型构建与训练"
   ]
  },
  {
   "cell_type": "markdown",
   "id": "e254aae5",
   "metadata": {},
   "source": [
    "### 6.1 划分训练集与测试集"
   ]
  },
  {
   "cell_type": "code",
   "execution_count": 27,
   "id": "2c1fe86b",
   "metadata": {},
   "outputs": [],
   "source": [
    "X = text_vec.values[:train.shape[0]]\n",
    "y = train['emotions']\n",
    "y = np.array(list(map(lambda ls:list(map(int, ls)), list(map(lambda string: string.split(','), y.values)))))"
   ]
  },
  {
   "cell_type": "code",
   "execution_count": 28,
   "id": "dd2a3438",
   "metadata": {},
   "outputs": [],
   "source": [
    "x_train, x_test, y_train, y_test = train_test_split(X, y, test_size=0.2, random_state=2021)\n",
    "\n",
    "x_train=x_train.reshape(x_train.shape[0],1,x_train.shape[1])"
   ]
  },
  {
   "cell_type": "markdown",
   "id": "6d955bc7",
   "metadata": {},
   "source": [
    "### 双向LSTM "
   ]
  },
  {
   "cell_type": "code",
   "execution_count": 29,
   "id": "05562d51",
   "metadata": {},
   "outputs": [
    {
     "ename": "NameError",
     "evalue": "name 'Sequential' is not defined",
     "output_type": "error",
     "traceback": [
      "\u001b[1;31m---------------------------------------------------------------------------\u001b[0m",
      "\u001b[1;31mNameError\u001b[0m                                 Traceback (most recent call last)",
      "\u001b[1;32m<ipython-input-29-070d516180e5>\u001b[0m in \u001b[0;36m<module>\u001b[1;34m\u001b[0m\n\u001b[1;32m----> 1\u001b[1;33m \u001b[0mbilstm\u001b[0m \u001b[1;33m=\u001b[0m \u001b[0mSequential\u001b[0m\u001b[1;33m(\u001b[0m\u001b[1;33m)\u001b[0m\u001b[1;33m\u001b[0m\u001b[1;33m\u001b[0m\u001b[0m\n\u001b[0m\u001b[0;32m      2\u001b[0m \u001b[0mbilstm\u001b[0m\u001b[1;33m.\u001b[0m\u001b[0madd\u001b[0m\u001b[1;33m(\u001b[0m\u001b[0mlayers\u001b[0m\u001b[1;33m.\u001b[0m\u001b[0mBidirectional\u001b[0m\u001b[1;33m(\u001b[0m\u001b[0mlayers\u001b[0m\u001b[1;33m.\u001b[0m\u001b[0mLSTM\u001b[0m\u001b[1;33m(\u001b[0m\u001b[1;36m64\u001b[0m\u001b[1;33m)\u001b[0m\u001b[1;33m)\u001b[0m\u001b[1;33m)\u001b[0m\u001b[1;33m\u001b[0m\u001b[1;33m\u001b[0m\u001b[0m\n\u001b[0;32m      3\u001b[0m \u001b[0mbilstm\u001b[0m\u001b[1;33m.\u001b[0m\u001b[0madd\u001b[0m\u001b[1;33m(\u001b[0m\u001b[0mlayers\u001b[0m\u001b[1;33m.\u001b[0m\u001b[0mDropout\u001b[0m\u001b[1;33m(\u001b[0m\u001b[1;36m0.5\u001b[0m\u001b[1;33m)\u001b[0m\u001b[1;33m)\u001b[0m\u001b[1;33m\u001b[0m\u001b[1;33m\u001b[0m\u001b[0m\n\u001b[0;32m      4\u001b[0m \u001b[0mbilstm\u001b[0m\u001b[1;33m.\u001b[0m\u001b[0madd\u001b[0m\u001b[1;33m(\u001b[0m\u001b[0mlayers\u001b[0m\u001b[1;33m.\u001b[0m\u001b[0mDense\u001b[0m\u001b[1;33m(\u001b[0m\u001b[1;36m6\u001b[0m\u001b[1;33m)\u001b[0m\u001b[1;33m)\u001b[0m\u001b[1;33m\u001b[0m\u001b[1;33m\u001b[0m\u001b[0m\n\u001b[0;32m      5\u001b[0m \u001b[0mbilstm\u001b[0m\u001b[1;33m.\u001b[0m\u001b[0mcompile\u001b[0m\u001b[1;33m(\u001b[0m\u001b[0moptimizer\u001b[0m\u001b[1;33m=\u001b[0m\u001b[1;34m'rmsprop'\u001b[0m\u001b[1;33m,\u001b[0m \u001b[0mloss\u001b[0m\u001b[1;33m=\u001b[0m\u001b[1;34m'mse'\u001b[0m\u001b[1;33m,\u001b[0m \u001b[0mmetrics\u001b[0m\u001b[1;33m=\u001b[0m\u001b[1;33m[\u001b[0m\u001b[1;34m'mean_squared_error'\u001b[0m\u001b[1;33m]\u001b[0m\u001b[1;33m)\u001b[0m\u001b[1;33m\u001b[0m\u001b[1;33m\u001b[0m\u001b[0m\n",
      "\u001b[1;31mNameError\u001b[0m: name 'Sequential' is not defined"
     ]
    }
   ],
   "source": [
    "bilstm = Sequential()\n",
    "bilstm.add(layers.Bidirectional(layers.LSTM(64)))\n",
    "bilstm.add(layers.Dropout(0.5))\n",
    "bilstm.add(layers.Dense(6))\n",
    "bilstm.compile(optimizer='rmsprop', loss='mse', metrics=['mean_squared_error'])"
   ]
  },
  {
   "cell_type": "code",
   "execution_count": 254,
   "id": "12cbee5c",
   "metadata": {
    "scrolled": true
   },
   "outputs": [
    {
     "name": "stdout",
     "output_type": "stream",
     "text": [
      "Train on 58849 samples, validate on 7357 samples\n",
      "Epoch 1/20\n",
      "58849/58849 [==============================] - 15s 253us/step - loss: 0.1792 - mean_squared_error: 0.1792 - val_loss: 0.2269 - val_mean_squared_error: 0.2269\n",
      "Epoch 2/20\n",
      "58849/58849 [==============================] - 7s 118us/step - loss: 0.1755 - mean_squared_error: 0.1755 - val_loss: 0.2256 - val_mean_squared_error: 0.2256\n",
      "Epoch 3/20\n",
      "58849/58849 [==============================] - 7s 116us/step - loss: 0.1744 - mean_squared_error: 0.1744 - val_loss: 0.2248 - val_mean_squared_error: 0.2248\n",
      "Epoch 4/20\n",
      "58849/58849 [==============================] - 7s 118us/step - loss: 0.1736 - mean_squared_error: 0.1736 - val_loss: 0.2241 - val_mean_squared_error: 0.2241\n",
      "Epoch 5/20\n",
      "58849/58849 [==============================] - 7s 116us/step - loss: 0.1729 - mean_squared_error: 0.1729 - val_loss: 0.2239 - val_mean_squared_error: 0.2239\n",
      "Epoch 6/20\n",
      "58849/58849 [==============================] - 7s 119us/step - loss: 0.1724 - mean_squared_error: 0.1724 - val_loss: 0.2233 - val_mean_squared_error: 0.2233\n",
      "Epoch 7/20\n",
      "58849/58849 [==============================] - 7s 117us/step - loss: 0.1718 - mean_squared_error: 0.1718 - val_loss: 0.2227 - val_mean_squared_error: 0.2227\n",
      "Epoch 8/20\n",
      "58849/58849 [==============================] - 7s 119us/step - loss: 0.1714 - mean_squared_error: 0.1714 - val_loss: 0.2223 - val_mean_squared_error: 0.2223\n",
      "Epoch 9/20\n",
      "58849/58849 [==============================] - 7s 117us/step - loss: 0.1711 - mean_squared_error: 0.1711 - val_loss: 0.2222 - val_mean_squared_error: 0.2222\n",
      "Epoch 10/20\n",
      "58849/58849 [==============================] - 7s 116us/step - loss: 0.1706 - mean_squared_error: 0.1706 - val_loss: 0.2223 - val_mean_squared_error: 0.2223\n",
      "Epoch 11/20\n",
      "58849/58849 [==============================] - 7s 119us/step - loss: 0.1703 - mean_squared_error: 0.1703 - val_loss: 0.2215 - val_mean_squared_error: 0.2215\n",
      "Epoch 12/20\n",
      "58849/58849 [==============================] - 7s 117us/step - loss: 0.1699 - mean_squared_error: 0.1699 - val_loss: 0.2214 - val_mean_squared_error: 0.2214\n",
      "Epoch 13/20\n",
      "58849/58849 [==============================] - 7s 119us/step - loss: 0.1698 - mean_squared_error: 0.1698 - val_loss: 0.2213 - val_mean_squared_error: 0.2213\n",
      "Epoch 14/20\n",
      "58849/58849 [==============================] - 7s 116us/step - loss: 0.1694 - mean_squared_error: 0.1694 - val_loss: 0.2206 - val_mean_squared_error: 0.2206\n",
      "Epoch 15/20\n",
      "58849/58849 [==============================] - 7s 120us/step - loss: 0.1692 - mean_squared_error: 0.1692 - val_loss: 0.2208 - val_mean_squared_error: 0.2208\n",
      "Epoch 16/20\n",
      "58849/58849 [==============================] - 7s 116us/step - loss: 0.1690 - mean_squared_error: 0.1690 - val_loss: 0.2209 - val_mean_squared_error: 0.2209\n",
      "Epoch 17/20\n",
      "58849/58849 [==============================] - 7s 116us/step - loss: 0.1686 - mean_squared_error: 0.1686 - val_loss: 0.2207 - val_mean_squared_error: 0.2207\n",
      "Epoch 18/20\n",
      "58849/58849 [==============================] - 7s 118us/step - loss: 0.1685 - mean_squared_error: 0.1685 - val_loss: 0.2201 - val_mean_squared_error: 0.2201\n",
      "Epoch 19/20\n",
      "58849/58849 [==============================] - 7s 117us/step - loss: 0.1681 - mean_squared_error: 0.1681 - val_loss: 0.2198 - val_mean_squared_error: 0.2198\n",
      "Epoch 20/20\n",
      "58849/58849 [==============================] - 7s 119us/step - loss: 0.1679 - mean_squared_error: 0.1679 - val_loss: 0.2196 - val_mean_squared_error: 0.2196\n"
     ]
    }
   ],
   "source": [
    "History = bilstm.fit(arg_x_train[:,np.newaxis],arg_y_train, batch_size=256, epochs=20, validation_data=(x_test[:,np.newaxis], y_test))"
   ]
  },
  {
   "cell_type": "code",
   "execution_count": 255,
   "id": "328e0650",
   "metadata": {},
   "outputs": [],
   "source": [
    "test_pred = bilstm.predict(x_test.reshape(x_test.shape[0],1,200))"
   ]
  },
  {
   "cell_type": "code",
   "execution_count": 256,
   "id": "3b42c1d3",
   "metadata": {},
   "outputs": [
    {
     "data": {
      "text/plain": [
       "0.6809010893545276"
      ]
     },
     "execution_count": 256,
     "metadata": {},
     "output_type": "execute_result"
    }
   ],
   "source": [
    "rmse = np.sqrt(((test_pred - y_test) ** 2).sum()/(6*y_test.shape[0]))\n",
    "score = 1 / (1 + rmse)\n",
    "score"
   ]
  },
  {
   "cell_type": "markdown",
   "id": "67073cd1",
   "metadata": {},
   "source": [
    "### mixup数据增强"
   ]
  },
  {
   "cell_type": "code",
   "execution_count": 333,
   "id": "01ee774b",
   "metadata": {},
   "outputs": [],
   "source": [
    "x_train, x_test, y_train, y_test = train_test_split(X, y, test_size=0.2, random_state=2021)\n",
    "\n",
    "x_train=x_train.reshape(x_train.shape[0],1,x_train.shape[1])"
   ]
  },
  {
   "cell_type": "code",
   "execution_count": 210,
   "id": "e488632a",
   "metadata": {},
   "outputs": [],
   "source": [
    "arg_x_train = x_train[0]\n",
    "for n in range(x_train.shape[0]):\n",
    "    if n < x_train.shape[0]-1:\n",
    "        arg_x_train = np.vstack([arg_x_train, (x_train[n]+x_train[n+1])/2])\n",
    "        arg_x_train = np.vstack([arg_x_train, x_train[n+1]])"
   ]
  },
  {
   "cell_type": "code",
   "execution_count": 263,
   "id": "f8ad7105",
   "metadata": {},
   "outputs": [],
   "source": [
    "arg_y_train = y_train[0]\n",
    "for n in range(y_train.shape[0]):\n",
    "    if n < y_train.shape[0]-1:\n",
    "        arg_y_train = np.vstack([arg_y_train, (y_train[n]+y_train[n+1])/2])\n",
    "        arg_y_train = np.vstack([arg_y_train, y_train[n+1]])"
   ]
  },
  {
   "cell_type": "markdown",
   "id": "95e6f9be",
   "metadata": {},
   "source": [
    "### 另一种增强方式"
   ]
  },
  {
   "cell_type": "markdown",
   "id": "ab44f1b6",
   "metadata": {},
   "source": [
    "认为前一段文本情感受后一段影响，将一段文本向量Li表示成 0.8*Li+0.2*Li+1"
   ]
  },
  {
   "cell_type": "code",
   "execution_count": 277,
   "id": "51b3f156",
   "metadata": {},
   "outputs": [],
   "source": [
    "a_text_vec = X.copy()\n",
    "a_y = y.copy()\n",
    "for n in range(X.shape[0]):\n",
    "    if n<X.shape[0]-1:\n",
    "        a_text_vec[n] = 0.8*a_text_vec[n]+0.2*a_text_vec[n+1]\n",
    "        a_y[n] = 0.8*a_y[n]+0.2*a_y[n+1]"
   ]
  },
  {
   "cell_type": "code",
   "execution_count": 319,
   "id": "d69beead",
   "metadata": {},
   "outputs": [],
   "source": [
    "x_train, x_test, y_train, y_test = train_test_split(a_text_vec, a_y, test_size=0.2, random_state=2021)\n",
    "\n",
    "x_train=x_train.reshape(x_train.shape[0],1,x_train.shape[1])"
   ]
  },
  {
   "cell_type": "code",
   "execution_count": 289,
   "id": "a7260be7",
   "metadata": {},
   "outputs": [
    {
     "data": {
      "text/plain": [
       "(36782, 200)"
      ]
     },
     "execution_count": 289,
     "metadata": {},
     "output_type": "execute_result"
    }
   ],
   "source": [
    "a_text_vec.shape"
   ]
  },
  {
   "cell_type": "code",
   "execution_count": 288,
   "id": "82cdcc59",
   "metadata": {},
   "outputs": [
    {
     "data": {
      "text/plain": [
       "(29425, 1, 200)"
      ]
     },
     "execution_count": 288,
     "metadata": {},
     "output_type": "execute_result"
    }
   ],
   "source": [
    "x_train.shape"
   ]
  },
  {
   "cell_type": "code",
   "execution_count": 297,
   "id": "9df27dda",
   "metadata": {},
   "outputs": [
    {
     "data": {
      "text/plain": [
       "(36782, 6)"
      ]
     },
     "execution_count": 297,
     "metadata": {},
     "output_type": "execute_result"
    }
   ],
   "source": [
    "a_y.shape"
   ]
  },
  {
   "cell_type": "markdown",
   "id": "f31d00d3",
   "metadata": {},
   "source": [
    "### 双向gru"
   ]
  },
  {
   "cell_type": "code",
   "execution_count": 314,
   "id": "423ae88f",
   "metadata": {},
   "outputs": [],
   "source": [
    "bigru = Sequential()\n",
    "bigru.add(layers.Bidirectional(layers.GRU(128), input_shape=(None, 200)))\n",
    "bigru.add(layers.Dropout(0.5))\n",
    "bigru.add(layers.Dense(6))\n",
    "bigru.compile(optimizer=RMSprop(), loss='mse')"
   ]
  },
  {
   "cell_type": "code",
   "execution_count": 315,
   "id": "fc41bb76",
   "metadata": {
    "scrolled": true
   },
   "outputs": [
    {
     "name": "stdout",
     "output_type": "stream",
     "text": [
      "Train on 23540 samples, validate on 5885 samples\n",
      "Epoch 1/20\n",
      "23540/23540 [==============================] - 16s 700us/step - loss: 0.1322 - val_loss: 0.1230\n",
      "Epoch 2/20\n",
      "23540/23540 [==============================] - 7s 288us/step - loss: 0.1249 - val_loss: 0.1212\n",
      "Epoch 3/20\n",
      "23540/23540 [==============================] - 7s 281us/step - loss: 0.1233 - val_loss: 0.1212\n",
      "Epoch 4/20\n",
      "23540/23540 [==============================] - 7s 300us/step - loss: 0.1227 - val_loss: 0.1207\n",
      "Epoch 5/20\n",
      "23540/23540 [==============================] - 7s 314us/step - loss: 0.1221 - val_loss: 0.1199\n",
      "Epoch 6/20\n",
      "23540/23540 [==============================] - 7s 304us/step - loss: 0.1217 - val_loss: 0.1200\n",
      "Epoch 7/20\n",
      "23540/23540 [==============================] - 7s 318us/step - loss: 0.1211 - val_loss: 0.1195\n",
      "Epoch 8/20\n",
      "23540/23540 [==============================] - 7s 303us/step - loss: 0.1212 - val_loss: 0.1198\n",
      "Epoch 9/20\n",
      "23540/23540 [==============================] - 7s 309us/step - loss: 0.1207 - val_loss: 0.1202\n",
      "Epoch 10/20\n",
      "23540/23540 [==============================] - 7s 311us/step - loss: 0.1204 - val_loss: 0.1194\n",
      "Epoch 11/20\n",
      "23540/23540 [==============================] - 7s 303us/step - loss: 0.1201 - val_loss: 0.1196\n",
      "Epoch 12/20\n",
      "23540/23540 [==============================] - 7s 300us/step - loss: 0.1200 - val_loss: 0.1193\n",
      "Epoch 13/20\n",
      "23540/23540 [==============================] - 7s 305us/step - loss: 0.1197 - val_loss: 0.1197\n",
      "Epoch 14/20\n",
      "23540/23540 [==============================] - 7s 300us/step - loss: 0.1193 - val_loss: 0.1189\n",
      "Epoch 15/20\n",
      "23540/23540 [==============================] - 7s 304us/step - loss: 0.1192 - val_loss: 0.1184\n",
      "Epoch 16/20\n",
      "23540/23540 [==============================] - 7s 300us/step - loss: 0.1189 - val_loss: 0.1189\n",
      "Epoch 17/20\n",
      "23540/23540 [==============================] - 7s 300us/step - loss: 0.1187 - val_loss: 0.1182\n",
      "Epoch 18/20\n",
      "23540/23540 [==============================] - 7s 304us/step - loss: 0.1186 - val_loss: 0.1185\n",
      "Epoch 19/20\n",
      "23540/23540 [==============================] - 7s 306us/step - loss: 0.1182 - val_loss: 0.1180\n",
      "Epoch 20/20\n",
      "23540/23540 [==============================] - 7s 286us/step - loss: 0.1181 - val_loss: 0.1177\n"
     ]
    }
   ],
   "source": [
    "History = bigru.fit(x_train, y_train, batch_size=256, epochs=20,validation_split=0.2)"
   ]
  },
  {
   "cell_type": "code",
   "execution_count": 316,
   "id": "80067487",
   "metadata": {},
   "outputs": [],
   "source": [
    "test_pred = bigru.predict(x_test.reshape(x_test.shape[0],1,200))"
   ]
  },
  {
   "cell_type": "code",
   "execution_count": 320,
   "id": "e7f18300",
   "metadata": {},
   "outputs": [
    {
     "data": {
      "text/plain": [
       "0.7448580034049752"
      ]
     },
     "execution_count": 320,
     "metadata": {},
     "output_type": "execute_result"
    }
   ],
   "source": [
    "rmse = np.sqrt(((test_pred - y_test) ** 2).sum()/(6*y_test.shape[0]))\n",
    "score = 1 / (1 + rmse)\n",
    "score"
   ]
  },
  {
   "cell_type": "code",
   "execution_count": 332,
   "id": "8e806c7f",
   "metadata": {},
   "outputs": [],
   "source": [
    "res = test_pred.copy()\n",
    "for n in range(res.shape[0]-2, -1, -1):\n",
    "    res[n] = (res[n]-0.2*res[n+1])/0.8"
   ]
  },
  {
   "cell_type": "code",
   "execution_count": 334,
   "id": "60a0cd2e",
   "metadata": {},
   "outputs": [
    {
     "data": {
      "text/plain": [
       "0.6776760163356741"
      ]
     },
     "execution_count": 334,
     "metadata": {},
     "output_type": "execute_result"
    }
   ],
   "source": [
    "rmse = np.sqrt(((res - y_test) ** 2).sum()/(6*y_test.shape[0]))\n",
    "score = 1 / (1 + rmse)\n",
    "score"
   ]
  },
  {
   "cell_type": "code",
   "execution_count": 246,
   "id": "6d535b27",
   "metadata": {},
   "outputs": [
    {
     "data": {
      "text/plain": [
       "<matplotlib.legend.Legend at 0x1d29883d080>"
      ]
     },
     "execution_count": 246,
     "metadata": {},
     "output_type": "execute_result"
    },
    {
     "data": {
      "image/png": "[encoded data removed]",
      "text/plain": [
       "<Figure size 432x288 with 1 Axes>"
      ]
     },
     "metadata": {
      "needs_background": "light"
     },
     "output_type": "display_data"
    }
   ],
   "source": [
    "import matplotlib.pyplot as plt\n",
    "epochs = range(1, len(History.history['loss'])+1)\n",
    "plt.plot(epochs, History.history['loss'], label='training loss')\n",
    "plt.plot(epochs, History.history['val_loss'], label='validation loss')\n",
    "plt.legend()"
   ]
  },
  {
   "cell_type": "code",
   "execution_count": 257,
   "id": "690d7313",
   "metadata": {},
   "outputs": [],
   "source": [
    "gru_pred = text_vec.values[train.shape[0]:].reshape(test.shape[0],1,200)"
   ]
  },
  {
   "cell_type": "code",
   "execution_count": 258,
   "id": "c96921b4",
   "metadata": {},
   "outputs": [],
   "source": [
    "gru_predict = bigru.predict(gru_pred)"
   ]
  },
  {
   "cell_type": "code",
   "execution_count": 259,
   "id": "87d1b7fe",
   "metadata": {},
   "outputs": [],
   "source": [
    "gru_predict = list(map(lambda ls:','.join(list(map(str, ls))), list(gru_predict)))"
   ]
  },
  {
   "cell_type": "code",
   "execution_count": 260,
   "id": "b32c751f",
   "metadata": {},
   "outputs": [],
   "source": [
    "sub = submit.copy()\n",
    "sub['id'] = test['id']\n",
    "sub['emotion'] = gru_predict"
   ]
  },
  {
   "cell_type": "code",
   "execution_count": 261,
   "id": "e2473924",
   "metadata": {},
   "outputs": [],
   "source": [
    "sub.to_csv(f'argment_gru_pred.tsv', sep='\\t', index=False)"
   ]
  },
  {
   "cell_type": "code",
   "execution_count": null,
   "id": "05a01bab",
   "metadata": {},
   "outputs": [],
   "source": []
  },
  {
   "cell_type": "code",
   "execution_count": null,
   "id": "d5b02191",
   "metadata": {},
   "outputs": [],
   "source": []
  },
  {
   "cell_type": "markdown",
   "id": "c8ba33a0",
   "metadata": {},
   "source": [
    "## bert的encoder"
   ]
  },
  {
   "cell_type": "markdown",
   "id": "3be04bbd",
   "metadata": {},
   "source": [
    "### config（保存一些超参数）"
   ]
  },
  {
   "cell_type": "code",
   "execution_count": 31,
   "id": "5d48a33a",
   "metadata": {},
   "outputs": [],
   "source": [
    "import torch\n",
    "import torch.nn as nn\n",
    "import numpy as np\n",
    "import math\n",
    "\n",
    "\n",
    "class Config(object):\n",
    "    def __init__(self):\n",
    "        self.vocab_size = 6\n",
    "\n",
    "        self.d_model = 20\n",
    "        self.n_heads = 2\n",
    "\n",
    "        assert self.d_model % self.n_heads == 0\n",
    "        dim_k  = self.d_model % self.n_heads\n",
    "        dim_v = self.d_model % self.n_heads\n",
    "\n",
    "        self.padding_size = 30\n",
    "        self.UNK = 5\n",
    "        self.PAD = 4\n",
    "\n",
    "        self.N = 6\n",
    "        self.p = 0.1\n",
    "\n",
    "config = Config()"
   ]
  },
  {
   "cell_type": "markdown",
   "id": "96bb0fdb",
   "metadata": {},
   "source": [
    "### embedding"
   ]
  },
  {
   "cell_type": "code",
   "execution_count": 39,
   "id": "2eca1bb6",
   "metadata": {},
   "outputs": [
    {
     "data": {
      "text/html": [
       "<div>\n",
       "<style scoped>\n",
       "    .dataframe tbody tr th:only-of-type {\n",
       "        vertical-align: middle;\n",
       "    }\n",
       "\n",
       "    .dataframe tbody tr th {\n",
       "        vertical-align: top;\n",
       "    }\n",
       "\n",
       "    .dataframe thead th {\n",
       "        text-align: right;\n",
       "    }\n",
       "</style>\n",
       "<table border=\"1\" class=\"dataframe\">\n",
       "  <thead>\n",
       "    <tr style=\"text-align: right;\">\n",
       "      <th></th>\n",
       "      <th>id</th>\n",
       "      <th>content</th>\n",
       "      <th>character</th>\n",
       "      <th>emotions</th>\n",
       "      <th>text</th>\n",
       "    </tr>\n",
       "  </thead>\n",
       "  <tbody>\n",
       "    <tr>\n",
       "      <th>0</th>\n",
       "      <td>1171_0001_A_1</td>\n",
       "      <td>天空下着暴雨，o2正在给c1穿雨衣，他自己却只穿着单薄的军装，完全暴露在大雨之中。</td>\n",
       "      <td>o2</td>\n",
       "      <td>0,0,0,0,0,0</td>\n",
       "      <td>天空下着暴雨，o2正在给c1穿雨衣，他自己却只穿着单薄的军装，完全暴露在大雨之中。角色: o2</td>\n",
       "    </tr>\n",
       "    <tr>\n",
       "      <th>1</th>\n",
       "      <td>1171_0001_A_2</td>\n",
       "      <td>天空下着暴雨，o2正在给c1穿雨衣，他自己却只穿着单薄的军装，完全暴露在大雨之中。</td>\n",
       "      <td>c1</td>\n",
       "      <td>0,0,0,0,0,0</td>\n",
       "      <td>天空下着暴雨，o2正在给c1穿雨衣，他自己却只穿着单薄的军装，完全暴露在大雨之中。角色: c1</td>\n",
       "    </tr>\n",
       "    <tr>\n",
       "      <th>2</th>\n",
       "      <td>1171_0001_A_3</td>\n",
       "      <td>o2一手拿着一个行李，一路小跑着把c1带到了文工团门口。</td>\n",
       "      <td>o2</td>\n",
       "      <td>0,0,0,0,0,0</td>\n",
       "      <td>o2一手拿着一个行李，一路小跑着把c1带到了文工团门口。角色: o2</td>\n",
       "    </tr>\n",
       "    <tr>\n",
       "      <th>3</th>\n",
       "      <td>1171_0001_A_4</td>\n",
       "      <td>o2一手拿着一个行李，一路小跑着把c1带到了文工团门口。</td>\n",
       "      <td>c1</td>\n",
       "      <td>0,0,0,0,0,0</td>\n",
       "      <td>o2一手拿着一个行李，一路小跑着把c1带到了文工团门口。角色: c1</td>\n",
       "    </tr>\n",
       "    <tr>\n",
       "      <th>4</th>\n",
       "      <td>1171_0001_A_5</td>\n",
       "      <td>o2停下来接过c1手里的行李：你妈妈交待我了，等领了军装一定要照张相寄回去，让街坊邻居都知道...</td>\n",
       "      <td>o2</td>\n",
       "      <td>0,0,0,0,0,0</td>\n",
       "      <td>o2停下来接过c1手里的行李：你妈妈交待我了，等领了军装一定要照张相寄回去，让街坊邻居都知道...</td>\n",
       "    </tr>\n",
       "  </tbody>\n",
       "</table>\n",
       "</div>"
      ],
      "text/plain": [
       "              id                                            content character  \\\n",
       "0  1171_0001_A_1          天空下着暴雨，o2正在给c1穿雨衣，他自己却只穿着单薄的军装，完全暴露在大雨之中。        o2   \n",
       "1  1171_0001_A_2          天空下着暴雨，o2正在给c1穿雨衣，他自己却只穿着单薄的军装，完全暴露在大雨之中。        c1   \n",
       "2  1171_0001_A_3                       o2一手拿着一个行李，一路小跑着把c1带到了文工团门口。        o2   \n",
       "3  1171_0001_A_4                       o2一手拿着一个行李，一路小跑着把c1带到了文工团门口。        c1   \n",
       "4  1171_0001_A_5  o2停下来接过c1手里的行李：你妈妈交待我了，等领了军装一定要照张相寄回去，让街坊邻居都知道...        o2   \n",
       "\n",
       "      emotions                                               text  \n",
       "0  0,0,0,0,0,0    天空下着暴雨，o2正在给c1穿雨衣，他自己却只穿着单薄的军装，完全暴露在大雨之中。角色: o2  \n",
       "1  0,0,0,0,0,0    天空下着暴雨，o2正在给c1穿雨衣，他自己却只穿着单薄的军装，完全暴露在大雨之中。角色: c1  \n",
       "2  0,0,0,0,0,0                 o2一手拿着一个行李，一路小跑着把c1带到了文工团门口。角色: o2  \n",
       "3  0,0,0,0,0,0                 o2一手拿着一个行李，一路小跑着把c1带到了文工团门口。角色: c1  \n",
       "4  0,0,0,0,0,0  o2停下来接过c1手里的行李：你妈妈交待我了，等领了军装一定要照张相寄回去，让街坊邻居都知道...  "
      ]
     },
     "execution_count": 39,
     "metadata": {},
     "output_type": "execute_result"
    }
   ],
   "source": [
    "train.head()"
   ]
  },
  {
   "cell_type": "code",
   "execution_count": 32,
   "id": "3e1fd378",
   "metadata": {},
   "outputs": [],
   "source": [
    "class Embedding(nn.Module):\n",
    "    def __init__(self,vocab_size):\n",
    "        super(Embedding, self).__init__()\n",
    "        # 一个普通的 embedding层，我们可以通过设置padding_idx=config.PAD 来实现论文中的 padding_mask\n",
    "        self.embedding = nn.Embedding(vocab_size,config.d_model,padding_idx=config.PAD)\n",
    "\n",
    "\n",
    "    def forward(self,x):\n",
    "        # 根据每个句子的长度，进行padding，短补长截\n",
    "        for i in range(len(x)):\n",
    "            if len(x[i]) < config.padding_size:\n",
    "                x[i].extend([config.UNK] * (config.padding_size - len(x[i]))) # 注意 UNK是你词表中用来表示oov的token索引，这里进行了简化，直接假设为6\n",
    "            else:\n",
    "                x[i] = x[i][:config.padding_size]\n",
    "        x = self.embedding(torch.tensor(x)) # batch_size * seq_len * d_model\n",
    "        return x"
   ]
  },
  {
   "cell_type": "code",
   "execution_count": 33,
   "id": "fa9d1008",
   "metadata": {},
   "outputs": [],
   "source": [
    "class Positional_Encoding(nn.Module):\n",
    "\n",
    "    def __init__(self,d_model):\n",
    "        super(Positional_Encoding,self).__init__()\n",
    "        self.d_model = d_model\n",
    "\n",
    "\n",
    "    def forward(self,seq_len,embedding_dim):\n",
    "        positional_encoding = np.zeros((seq_len,embedding_dim))\n",
    "        for pos in range(positional_encoding.shape[0]):\n",
    "            for i in range(positional_encoding.shape[1]):\n",
    "                positional_encoding[pos][i] = math.sin(pos/(10000**(2*i/self.d_model))) if i % 2 == 0 else math.cos(pos/(10000**(2*i/self.d_model)))\n",
    "        return torch.from_numpy(positional_encoding)"
   ]
  },
  {
   "cell_type": "markdown",
   "id": "c681803c",
   "metadata": {},
   "source": [
    "###  Encoder（Muti_head_Attention）"
   ]
  },
  {
   "cell_type": "code",
   "execution_count": 34,
   "id": "4c6b4c36",
   "metadata": {},
   "outputs": [],
   "source": [
    "class Mutihead_Attention(nn.Module):\n",
    "    def __init__(self,d_model,dim_k,dim_v,n_heads):\n",
    "        super(Mutihead_Attention, self).__init__()\n",
    "        self.dim_v = dim_v\n",
    "        self.dim_k = dim_k\n",
    "        self.n_heads = n_heads\n",
    "\n",
    "        self.q = nn.Linear(d_model,dim_k)\n",
    "        self.k = nn.Linear(d_model,dim_k)\n",
    "        self.v = nn.Linear(d_model,dim_v)\n",
    "\n",
    "        self.o = nn.Linear(dim_v,d_model)\n",
    "        self.norm_fact = 1 / math.sqrt(d_model)\n",
    "\n",
    "    def generate_mask(self,dim):\n",
    "        # 此处是 sequence mask ，防止 decoder窥视后面时间步的信息。\n",
    "        # padding mask 在数据输入模型之前完成。\n",
    "        matirx = np.ones((dim,dim))\n",
    "        mask = torch.Tensor(np.tril(matirx))\n",
    "\n",
    "        return mask==1\n",
    "\n",
    "    def forward(self,x,y,requires_mask=False):\n",
    "        assert self.dim_k % self.n_heads == 0 and self.dim_v % self.n_heads == 0\n",
    "        # size of x : [batch_size * seq_len * batch_size]\n",
    "        # 对 x 进行自注意力\n",
    "        Q = self.q(x).reshape(-1,x.shape[0],x.shape[1],self.dim_k // self.n_heads) # n_heads * batch_size * seq_len * dim_k\n",
    "        K = self.k(x).reshape(-1,x.shape[0],x.shape[1],self.dim_k // self.n_heads) # n_heads * batch_size * seq_len * dim_k\n",
    "        V = self.v(y).reshape(-1,y.shape[0],y.shape[1],self.dim_v // self.n_heads) # n_heads * batch_size * seq_len * dim_v\n",
    "        # print(\"Attention V shape : {}\".format(V.shape))\n",
    "        attention_score = torch.matmul(Q,K.permute(0,1,3,2)) * self.norm_fact\n",
    "        if requires_mask:\n",
    "            mask = self.generate_mask(x.shape[1])\n",
    "            attention_score.masked_fill(mask,value=float(\"-inf\")) # 注意这里的小Trick，不需要将Q,K,V 分别MASK,只MASKSoftmax之前的结果就好了\n",
    "        output = torch.matmul(attention_score,V).reshape(y.shape[0],y.shape[1],-1)\n",
    "        # print(\"Attention output shape : {}\".format(output.shape))\n",
    "\n",
    "        output = self.o(output)\n",
    "        return output"
   ]
  },
  {
   "cell_type": "code",
   "execution_count": 35,
   "id": "055471dd",
   "metadata": {},
   "outputs": [],
   "source": [
    "class Feed_Forward(nn.Module):\n",
    "    def __init__(self,input_dim,hidden_dim=2048):\n",
    "        super(Feed_Forward, self).__init__()\n",
    "        self.L1 = nn.Linear(input_dim,hidden_dim)\n",
    "        self.L2 = nn.Linear(hidden_dim,input_dim)\n",
    "\n",
    "    def forward(self,x):\n",
    "        output = nn.ReLU()(self.L1(x))\n",
    "        output = self.L2(output)\n",
    "        return output"
   ]
  },
  {
   "cell_type": "code",
   "execution_count": 36,
   "id": "a5118345",
   "metadata": {},
   "outputs": [],
   "source": [
    "class Add_Norm(nn.Module):\n",
    "    def __init__(self):\n",
    "        self.dropout = nn.Dropout(config.p)\n",
    "        super(Add_Norm, self).__init__()\n",
    "\n",
    "    def forward(self,x,sub_layer,**kwargs):\n",
    "        sub_output = sub_layer(x,**kwargs)\n",
    "        # print(\"{} output : {}\".format(sub_layer,sub_output.size()))\n",
    "        x = self.dropout(x + sub_output)\n",
    "\n",
    "        layer_norm = nn.LayerNorm(x.size()[1:])\n",
    "        out = layer_norm(x)\n",
    "        return out"
   ]
  },
  {
   "cell_type": "code",
   "execution_count": 37,
   "id": "ad025177",
   "metadata": {},
   "outputs": [],
   "source": [
    "class Encoder(nn.Module):\n",
    "    def __init__(self):\n",
    "        super(Encoder, self).__init__()\n",
    "        self.positional_encoding = Positional_Encoding(config.d_model)\n",
    "        self.muti_atten = Mutihead_Attention(config.d_model,config.dim_k,config.dim_v,config.n_heads)\n",
    "        self.feed_forward = Feed_Forward(config.d_model)\n",
    "\n",
    "        self.add_norm = Add_Norm()\n",
    "\n",
    "\n",
    "    def forward(self,x): # batch_size * seq_len 并且 x 的类型不是tensor，是普通list\n",
    "\n",
    "        x += self.positional_encoding(x.shape[1],config.d_model)\n",
    "        # print(\"After positional_encoding: {}\".format(x.size()))\n",
    "        output = self.add_norm(x,self.muti_atten,y=x)\n",
    "        output = self.add_norm(output,self.feed_forward)\n",
    "\n",
    "        return output"
   ]
  },
  {
   "cell_type": "code",
   "execution_count": null,
   "id": "3107d701",
   "metadata": {},
   "outputs": [],
   "source": []
  }
 ],
 "metadata": {
  "kernelspec": {
   "display_name": "Python 3 (ipykernel)",
   "language": "python",
   "name": "python3"
  },
  "language_info": {
   "codemirror_mode": {
    "name": "ipython",
    "version": 3
   },
   "file_extension": ".py",
   "mimetype": "text/x-python",
   "name": "python",
   "nbconvert_exporter": "python",
   "pygments_lexer": "ipython3",
   "version": "3.9.7"
  },
  "toc": {
   "base_numbering": 1,
   "nav_menu": {},
   "number_sections": true,
   "sideBar": true,
   "skip_h1_title": false,
   "title_cell": "Table of Contents",
   "title_sidebar": "Contents",
   "toc_cell": false,
   "toc_position": {},
   "toc_section_display": true,
   "toc_window_display": false
  }
 },
 "nbformat": 4,
 "nbformat_minor": 5
}
